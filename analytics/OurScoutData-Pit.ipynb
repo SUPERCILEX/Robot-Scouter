{
 "cells": [
  {
   "cell_type": "markdown",
   "id": "fdc8d4e5",
   "metadata": {},
   "source": [
    "## This Notebook will pull in and summarize our Pit Robot Scouter JSON Data."
   ]
  },
  {
   "cell_type": "markdown",
   "id": "58bbfd47",
   "metadata": {},
   "source": [
    "The Notebook exports its results to CSV and Excel files located in a 'LatestResults' directory \n",
    "relative to this Jupyter Notebook."
   ]
  },
  {
   "cell_type": "markdown",
   "id": "297ffbda",
   "metadata": {},
   "source": [
    "** NO NEED TO RUN THE NEXT CODE SECTION IF YOU HAVE ALREADY INSTALLED THE FOLLOWING PYTHON LIBRARIES **"
   ]
  },
  {
   "cell_type": "code",
   "execution_count": 1,
   "id": "903f1cb9",
   "metadata": {},
   "outputs": [
    {
     "name": "stdout",
     "output_type": "stream",
     "text": [
      "Requirement already satisfied: requests in c:\\users\\jeane\\anaconda3\\envs\\blueallianceapi\\lib\\site-packages (2.27.1)\n",
      "Requirement already satisfied: certifi>=2017.4.17 in c:\\users\\jeane\\anaconda3\\envs\\blueallianceapi\\lib\\site-packages (from requests) (2021.10.8)\n",
      "Requirement already satisfied: urllib3<1.27,>=1.21.1 in c:\\users\\jeane\\anaconda3\\envs\\blueallianceapi\\lib\\site-packages (from requests) (1.26.8)\n",
      "Requirement already satisfied: charset-normalizer~=2.0.0 in c:\\users\\jeane\\anaconda3\\envs\\blueallianceapi\\lib\\site-packages (from requests) (2.0.12)\n",
      "Requirement already satisfied: idna<4,>=2.5 in c:\\users\\jeane\\anaconda3\\envs\\blueallianceapi\\lib\\site-packages (from requests) (3.3)\n",
      "Requirement already satisfied: pandas in c:\\users\\jeane\\anaconda3\\envs\\blueallianceapi\\lib\\site-packages (1.4.1)\n",
      "Requirement already satisfied: python-dateutil>=2.8.1 in c:\\users\\jeane\\anaconda3\\envs\\blueallianceapi\\lib\\site-packages (from pandas) (2.8.2)\n",
      "Requirement already satisfied: numpy>=1.18.5 in c:\\users\\jeane\\anaconda3\\envs\\blueallianceapi\\lib\\site-packages (from pandas) (1.22.3)\n",
      "Requirement already satisfied: pytz>=2020.1 in c:\\users\\jeane\\anaconda3\\envs\\blueallianceapi\\lib\\site-packages (from pandas) (2021.3)\n",
      "Requirement already satisfied: six>=1.5 in c:\\users\\jeane\\anaconda3\\envs\\blueallianceapi\\lib\\site-packages (from python-dateutil>=2.8.1->pandas) (1.16.0)\n",
      "Requirement already satisfied: openpyxl in c:\\users\\jeane\\anaconda3\\envs\\blueallianceapi\\lib\\site-packages (3.0.9)\n",
      "Requirement already satisfied: et-xmlfile in c:\\users\\jeane\\anaconda3\\envs\\blueallianceapi\\lib\\site-packages (from openpyxl) (1.1.0)\n"
     ]
    }
   ],
   "source": [
    "# NO NEED TO RUN THIS CODE SECTION IF YOU HAVE ALREADY INSTALLED THE FOLLOWING PYTHON LIBRARIES. \n",
    "# No problem though if you accidently run it as it will just say the \"Requirement already satisfied\"\n",
    "\n",
    "!pip install requests\n",
    "!pip install pandas\n",
    "\n",
    "# The following library is currently being used for the Excel writer.  Was planning to use for exporting \n",
    "# to an Excel file format. Panda no longer supports exporting directly into an Excel file format.\n",
    "!pip install openpyxl"
   ]
  },
  {
   "cell_type": "code",
   "execution_count": 2,
   "id": "75a07d9e",
   "metadata": {},
   "outputs": [],
   "source": [
    "import requests\n",
    "import pandas as pd\n",
    "from datetime import datetime"
   ]
  },
  {
   "cell_type": "code",
   "execution_count": 3,
   "id": "08608275",
   "metadata": {},
   "outputs": [],
   "source": [
    "# Getting a unique file timestamp\n",
    "currentTimeStamp = datetime.now()\n",
    "file_timestamp = currentTimeStamp.strftime(\"%Y-%m-%d-T%H-%M\")"
   ]
  },
  {
   "cell_type": "code",
   "execution_count": 4,
   "id": "30b723b7",
   "metadata": {},
   "outputs": [
    {
     "data": {
      "text/html": [
       "<div>\n",
       "<style scoped>\n",
       "    .dataframe tbody tr th:only-of-type {\n",
       "        vertical-align: middle;\n",
       "    }\n",
       "\n",
       "    .dataframe tbody tr th {\n",
       "        vertical-align: top;\n",
       "    }\n",
       "\n",
       "    .dataframe thead th {\n",
       "        text-align: right;\n",
       "    }\n",
       "</style>\n",
       "<table border=\"1\" class=\"dataframe\">\n",
       "  <thead>\n",
       "    <tr style=\"text-align: right;\">\n",
       "      <th></th>\n",
       "      <th>teams</th>\n",
       "    </tr>\n",
       "  </thead>\n",
       "  <tbody>\n",
       "    <tr>\n",
       "      <th>1410</th>\n",
       "      <td>[{'name': 'Pit 1', 'timestamp': 1647646748582,...</td>\n",
       "    </tr>\n",
       "    <tr>\n",
       "      <th>1619</th>\n",
       "      <td>[{'name': 'Pit 1', 'timestamp': 1647470571192,...</td>\n",
       "    </tr>\n",
       "    <tr>\n",
       "      <th>2945</th>\n",
       "      <td>[{'name': 'Pit 1', 'timestamp': 1647742305729,...</td>\n",
       "    </tr>\n",
       "    <tr>\n",
       "      <th>3374</th>\n",
       "      <td>[{'name': 'Pit 1', 'timestamp': 1647741329171,...</td>\n",
       "    </tr>\n",
       "    <tr>\n",
       "      <th>4418</th>\n",
       "      <td>[{'name': 'Pit 1', 'timestamp': 1647796733933,...</td>\n",
       "    </tr>\n",
       "    <tr>\n",
       "      <th>4550</th>\n",
       "      <td>[{'name': 'Pit 1', 'timestamp': 1647793791192,...</td>\n",
       "    </tr>\n",
       "    <tr>\n",
       "      <th>5690</th>\n",
       "      <td>[{'name': 'Pit 1', 'timestamp': 1647743278733,...</td>\n",
       "    </tr>\n",
       "  </tbody>\n",
       "</table>\n",
       "</div>"
      ],
      "text/plain": [
       "                                                  teams\n",
       "1410  [{'name': 'Pit 1', 'timestamp': 1647646748582,...\n",
       "1619  [{'name': 'Pit 1', 'timestamp': 1647470571192,...\n",
       "2945  [{'name': 'Pit 1', 'timestamp': 1647742305729,...\n",
       "3374  [{'name': 'Pit 1', 'timestamp': 1647741329171,...\n",
       "4418  [{'name': 'Pit 1', 'timestamp': 1647796733933,...\n",
       "4550  [{'name': 'Pit 1', 'timestamp': 1647793791192,...\n",
       "5690  [{'name': 'Pit 1', 'timestamp': 1647743278733,..."
      ]
     },
     "metadata": {},
     "output_type": "display_data"
    }
   ],
   "source": [
    "df_scouting = pd.read_json('LatestInputOfScoutData/PIT.json')\n",
    "display(df_scouting)"
   ]
  },
  {
   "cell_type": "code",
   "execution_count": 5,
   "id": "0889c049",
   "metadata": {
    "scrolled": false
   },
   "outputs": [
    {
     "name": "stdout",
     "output_type": "stream",
     "text": [
      "<class 'pandas.core.frame.DataFrame'>\n",
      "Int64Index: 7 entries, 1410 to 5690\n",
      "Data columns (total 1 columns):\n",
      " #   Column  Non-Null Count  Dtype \n",
      "---  ------  --------------  ----- \n",
      " 0   teams   7 non-null      object\n",
      "dtypes: object(1)\n",
      "memory usage: 112.0+ bytes\n"
     ]
    }
   ],
   "source": [
    "df_scouting.info()"
   ]
  },
  {
   "cell_type": "code",
   "execution_count": 6,
   "id": "f7d41faa",
   "metadata": {},
   "outputs": [],
   "source": [
    "# Making it easier to designate the header / column name to use per metric collected.\n",
    "d_labels = {'ECIgrKJfMO8I2E8Lsovh': 'Scout', \n",
    "            'ONV3DyLTXyEeLzuZZnQs': 'HARDWARE Floor Intake', 'TvyFAXJuHxPsW26qxSXm': 'HARDWARE Drivetrain', \n",
    "            'ImxowXvvNc0k4foZnkC2': 'AUTO Level', 'RdwMEdp9hqmT2nF50pn8': 'AUTO Strategy Comments',\n",
    "            'zQCQI1X0XFbAdupCuZhm': 'TELEOP Where They Shoot', 'ZKt8i4uYZsEAus75zJ7o': 'TELEOP Strategy Comments',\n",
    "            'tlJnSqtvEgakktTXBgkW': 'END GAME Highest Climb', 'DNmVOXCuMUKHvU6BzLMV': 'END GAME Climb Comments', \n",
    "            'LY1pu680oPokOpJNI4q3': 'DEFENSE Shown', 'MJIMd2Nj0Cf9zPEzsRYh': 'DEFENSE Comments',\n",
    "            'ry5Q83c1ty8QyWcoQKsI': 'Additional Notes'\n",
    "           }       "
   ]
  },
  {
   "cell_type": "code",
   "execution_count": 7,
   "id": "bddeb342",
   "metadata": {
    "scrolled": true
   },
   "outputs": [
    {
     "data": {
      "text/html": [
       "<div>\n",
       "<style scoped>\n",
       "    .dataframe tbody tr th:only-of-type {\n",
       "        vertical-align: middle;\n",
       "    }\n",
       "\n",
       "    .dataframe tbody tr th {\n",
       "        vertical-align: top;\n",
       "    }\n",
       "\n",
       "    .dataframe thead th {\n",
       "        text-align: right;\n",
       "    }\n",
       "</style>\n",
       "<table border=\"1\" class=\"dataframe\">\n",
       "  <thead>\n",
       "    <tr style=\"text-align: right;\">\n",
       "      <th></th>\n",
       "      <th>name</th>\n",
       "      <th>timestamp</th>\n",
       "      <th>metrics</th>\n",
       "    </tr>\n",
       "  </thead>\n",
       "  <tbody>\n",
       "    <tr>\n",
       "      <th>0</th>\n",
       "      <td>Pit 1</td>\n",
       "      <td>1647646748582</td>\n",
       "      <td>{'ECIgrKJfMO8I2E8Lsovh': {'type': 'text', 'nam...</td>\n",
       "    </tr>\n",
       "  </tbody>\n",
       "</table>\n",
       "</div>"
      ],
      "text/plain": [
       "    name      timestamp                                            metrics\n",
       "0  Pit 1  1647646748582  {'ECIgrKJfMO8I2E8Lsovh': {'type': 'text', 'nam..."
      ]
     },
     "metadata": {},
     "output_type": "display_data"
    },
    {
     "name": "stdout",
     "output_type": "stream",
     "text": [
      "Dict:  {'Index': [0], 'Team': [1410], 'Timestamp': ['03-18-2022'], 'Scout': [''], 'HARDWARE Floor Intake': [True], 'HARDWARE Drivetrain': ['Unknown '], 'AUTO Level': ['Unknown '], 'AUTO Strategy Comments': [''], 'TELEOP Where They Shoot': ['Unknown '], 'TELEOP Strategy Comments': [''], 'END GAME Highest Climb': ['Unknown '], 'END GAME Climb Comments': [''], 'DEFENSE Shown': [False], 'DEFENSE Comments': [''], 'Additional Notes': ['']}\n"
     ]
    },
    {
     "data": {
      "text/html": [
       "<div>\n",
       "<style scoped>\n",
       "    .dataframe tbody tr th:only-of-type {\n",
       "        vertical-align: middle;\n",
       "    }\n",
       "\n",
       "    .dataframe tbody tr th {\n",
       "        vertical-align: top;\n",
       "    }\n",
       "\n",
       "    .dataframe thead th {\n",
       "        text-align: right;\n",
       "    }\n",
       "</style>\n",
       "<table border=\"1\" class=\"dataframe\">\n",
       "  <thead>\n",
       "    <tr style=\"text-align: right;\">\n",
       "      <th></th>\n",
       "      <th>name</th>\n",
       "      <th>timestamp</th>\n",
       "      <th>metrics</th>\n",
       "    </tr>\n",
       "  </thead>\n",
       "  <tbody>\n",
       "    <tr>\n",
       "      <th>0</th>\n",
       "      <td>Pit 1</td>\n",
       "      <td>1647470571192</td>\n",
       "      <td>{'ECIgrKJfMO8I2E8Lsovh': {'type': 'text', 'nam...</td>\n",
       "    </tr>\n",
       "  </tbody>\n",
       "</table>\n",
       "</div>"
      ],
      "text/plain": [
       "    name      timestamp                                            metrics\n",
       "0  Pit 1  1647470571192  {'ECIgrKJfMO8I2E8Lsovh': {'type': 'text', 'nam..."
      ]
     },
     "metadata": {},
     "output_type": "display_data"
    },
    {
     "name": "stdout",
     "output_type": "stream",
     "text": [
      "Dict:  {'Index': [1], 'Team': [1619], 'Timestamp': ['03-16-2022'], 'Scout': ['JB'], 'HARDWARE Floor Intake': [True], 'HARDWARE Drivetrain': ['Swerve '], 'AUTO Level': ['5-More than 2 Cargo combination'], 'AUTO Strategy Comments': [\"Setup on the opposite side as the hangar in their Alliance's tarmac.\"], 'TELEOP Where They Shoot': ['Upper Hub only'], 'TELEOP Strategy Comments': ['They like the launchpad when heavily defended.  Otherwise typically just outside the tarmac.  They go to the opposite side of the field to gather cargo.'], 'END GAME Highest Climb': ['Traversal '], 'END GAME Climb Comments': ['15 sec climb. They go into the Hangar with 30 seconds remaining.'], 'DEFENSE Shown': [False], 'DEFENSE Comments': ['Never seen them play defense.'], 'Additional Notes': ['']}\n"
     ]
    },
    {
     "data": {
      "text/html": [
       "<div>\n",
       "<style scoped>\n",
       "    .dataframe tbody tr th:only-of-type {\n",
       "        vertical-align: middle;\n",
       "    }\n",
       "\n",
       "    .dataframe tbody tr th {\n",
       "        vertical-align: top;\n",
       "    }\n",
       "\n",
       "    .dataframe thead th {\n",
       "        text-align: right;\n",
       "    }\n",
       "</style>\n",
       "<table border=\"1\" class=\"dataframe\">\n",
       "  <thead>\n",
       "    <tr style=\"text-align: right;\">\n",
       "      <th></th>\n",
       "      <th>name</th>\n",
       "      <th>timestamp</th>\n",
       "      <th>metrics</th>\n",
       "    </tr>\n",
       "  </thead>\n",
       "  <tbody>\n",
       "    <tr>\n",
       "      <th>0</th>\n",
       "      <td>Pit 1</td>\n",
       "      <td>1647742305729</td>\n",
       "      <td>{'ECIgrKJfMO8I2E8Lsovh': {'type': 'text', 'nam...</td>\n",
       "    </tr>\n",
       "  </tbody>\n",
       "</table>\n",
       "</div>"
      ],
      "text/plain": [
       "    name      timestamp                                            metrics\n",
       "0  Pit 1  1647742305729  {'ECIgrKJfMO8I2E8Lsovh': {'type': 'text', 'nam..."
      ]
     },
     "metadata": {},
     "output_type": "display_data"
    },
    {
     "name": "stdout",
     "output_type": "stream",
     "text": [
      "Dict:  {'Index': [2], 'Team': [2945], 'Timestamp': ['03-20-2022'], 'Scout': ['NG'], 'HARDWARE Floor Intake': [True], 'HARDWARE Drivetrain': ['Unknown '], 'AUTO Level': ['3-Shoot + Taxi only (1 Cargo)'], 'AUTO Strategy Comments': [''], 'TELEOP Where They Shoot': ['Upper Hub only'], 'TELEOP Strategy Comments': [''], 'END GAME Highest Climb': ['Mid'], 'END GAME Climb Comments': ['Usually go in to climb with 30sec left.'], 'DEFENSE Shown': [True], 'DEFENSE Comments': ['Not very effective '], 'Additional Notes': ['']}\n"
     ]
    },
    {
     "data": {
      "text/html": [
       "<div>\n",
       "<style scoped>\n",
       "    .dataframe tbody tr th:only-of-type {\n",
       "        vertical-align: middle;\n",
       "    }\n",
       "\n",
       "    .dataframe tbody tr th {\n",
       "        vertical-align: top;\n",
       "    }\n",
       "\n",
       "    .dataframe thead th {\n",
       "        text-align: right;\n",
       "    }\n",
       "</style>\n",
       "<table border=\"1\" class=\"dataframe\">\n",
       "  <thead>\n",
       "    <tr style=\"text-align: right;\">\n",
       "      <th></th>\n",
       "      <th>name</th>\n",
       "      <th>timestamp</th>\n",
       "      <th>metrics</th>\n",
       "    </tr>\n",
       "  </thead>\n",
       "  <tbody>\n",
       "    <tr>\n",
       "      <th>0</th>\n",
       "      <td>Pit 1</td>\n",
       "      <td>1647741329171</td>\n",
       "      <td>{'ECIgrKJfMO8I2E8Lsovh': {'type': 'text', 'nam...</td>\n",
       "    </tr>\n",
       "  </tbody>\n",
       "</table>\n",
       "</div>"
      ],
      "text/plain": [
       "    name      timestamp                                            metrics\n",
       "0  Pit 1  1647741329171  {'ECIgrKJfMO8I2E8Lsovh': {'type': 'text', 'nam..."
      ]
     },
     "metadata": {},
     "output_type": "display_data"
    },
    {
     "name": "stdout",
     "output_type": "stream",
     "text": [
      "Dict:  {'Index': [3], 'Team': [3374], 'Timestamp': ['03-20-2022'], 'Scout': ['NG'], 'HARDWARE Floor Intake': [True], 'HARDWARE Drivetrain': ['Unknown '], 'AUTO Level': ['4-Shoot + Taxi + Intake (2 Cargo max)'], 'AUTO Strategy Comments': [''], 'TELEOP Where They Shoot': ['Upper Hub only'], 'TELEOP Strategy Comments': [''], 'END GAME Highest Climb': ['Mid'], 'END GAME Climb Comments': [''], 'DEFENSE Shown': [False], 'DEFENSE Comments': [''], 'Additional Notes': ['Shoot close to the tarmac tape.\\nCan easily get rid of a wrong color ball.']}\n"
     ]
    },
    {
     "data": {
      "text/html": [
       "<div>\n",
       "<style scoped>\n",
       "    .dataframe tbody tr th:only-of-type {\n",
       "        vertical-align: middle;\n",
       "    }\n",
       "\n",
       "    .dataframe tbody tr th {\n",
       "        vertical-align: top;\n",
       "    }\n",
       "\n",
       "    .dataframe thead th {\n",
       "        text-align: right;\n",
       "    }\n",
       "</style>\n",
       "<table border=\"1\" class=\"dataframe\">\n",
       "  <thead>\n",
       "    <tr style=\"text-align: right;\">\n",
       "      <th></th>\n",
       "      <th>name</th>\n",
       "      <th>timestamp</th>\n",
       "      <th>metrics</th>\n",
       "    </tr>\n",
       "  </thead>\n",
       "  <tbody>\n",
       "    <tr>\n",
       "      <th>0</th>\n",
       "      <td>Pit 1</td>\n",
       "      <td>1647796733933</td>\n",
       "      <td>{'ECIgrKJfMO8I2E8Lsovh': {'type': 'text', 'nam...</td>\n",
       "    </tr>\n",
       "  </tbody>\n",
       "</table>\n",
       "</div>"
      ],
      "text/plain": [
       "    name      timestamp                                            metrics\n",
       "0  Pit 1  1647796733933  {'ECIgrKJfMO8I2E8Lsovh': {'type': 'text', 'nam..."
      ]
     },
     "metadata": {},
     "output_type": "display_data"
    },
    {
     "name": "stdout",
     "output_type": "stream",
     "text": [
      "Dict:  {'Index': [4], 'Team': [4418], 'Timestamp': ['03-20-2022'], 'Scout': ['NG'], 'HARDWARE Floor Intake': [True], 'HARDWARE Drivetrain': ['Unknown '], 'AUTO Level': ['4-Shoot + Taxi + Intake (2 Cargo max)'], 'AUTO Strategy Comments': [\"Shoot low, then taxi to pick up another ball, then come back against the hub to shoot that ball. In some matches they didn't get points for the taxi. Not sure why. \"], 'TELEOP Where They Shoot': ['Lower Hub only '], 'TELEOP Strategy Comments': ['Typically shoot from up against the hub.'], 'END GAME Highest Climb': ['None'], 'END GAME Climb Comments': ['Trying to climb to the mid bar, but they get stuck.'], 'DEFENSE Shown': [False], 'DEFENSE Comments': [''], 'Additional Notes': ['']}\n"
     ]
    },
    {
     "data": {
      "text/html": [
       "<div>\n",
       "<style scoped>\n",
       "    .dataframe tbody tr th:only-of-type {\n",
       "        vertical-align: middle;\n",
       "    }\n",
       "\n",
       "    .dataframe tbody tr th {\n",
       "        vertical-align: top;\n",
       "    }\n",
       "\n",
       "    .dataframe thead th {\n",
       "        text-align: right;\n",
       "    }\n",
       "</style>\n",
       "<table border=\"1\" class=\"dataframe\">\n",
       "  <thead>\n",
       "    <tr style=\"text-align: right;\">\n",
       "      <th></th>\n",
       "      <th>name</th>\n",
       "      <th>timestamp</th>\n",
       "      <th>metrics</th>\n",
       "    </tr>\n",
       "  </thead>\n",
       "  <tbody>\n",
       "    <tr>\n",
       "      <th>0</th>\n",
       "      <td>Pit 1</td>\n",
       "      <td>1647793791192</td>\n",
       "      <td>{'ECIgrKJfMO8I2E8Lsovh': {'type': 'text', 'nam...</td>\n",
       "    </tr>\n",
       "  </tbody>\n",
       "</table>\n",
       "</div>"
      ],
      "text/plain": [
       "    name      timestamp                                            metrics\n",
       "0  Pit 1  1647793791192  {'ECIgrKJfMO8I2E8Lsovh': {'type': 'text', 'nam..."
      ]
     },
     "metadata": {},
     "output_type": "display_data"
    },
    {
     "name": "stdout",
     "output_type": "stream",
     "text": [
      "Dict:  {'Index': [5], 'Team': [4550], 'Timestamp': ['03-20-2022'], 'Scout': ['NG'], 'HARDWARE Floor Intake': [False], 'HARDWARE Drivetrain': ['Unknown '], 'AUTO Level': ['3-Shoot + Taxi only (1 Cargo)'], 'AUTO Strategy Comments': ['Changed their auto routine to shoot into the low hub partway through quals.'], 'TELEOP Where They Shoot': ['Nowhere'], 'TELEOP Strategy Comments': ['Did not pick up or shoot at all during teleop in AZ.'], 'END GAME Highest Climb': ['Traversal '], 'END GAME Climb Comments': ['Enter hangar at 30sec. Have to enter the hangar from the side, they are too tall to go under the low bar.'], 'DEFENSE Shown': [True], 'DEFENSE Comments': ['Good at blocking. Never got penalties (except for that one time :). Not as mobile, so they have trouble blocking swerve robots. '], 'Additional Notes': ['In the first couple qual matches their robot stopped working. Very bouncy and tippy when stopping.']}\n"
     ]
    },
    {
     "data": {
      "text/html": [
       "<div>\n",
       "<style scoped>\n",
       "    .dataframe tbody tr th:only-of-type {\n",
       "        vertical-align: middle;\n",
       "    }\n",
       "\n",
       "    .dataframe tbody tr th {\n",
       "        vertical-align: top;\n",
       "    }\n",
       "\n",
       "    .dataframe thead th {\n",
       "        text-align: right;\n",
       "    }\n",
       "</style>\n",
       "<table border=\"1\" class=\"dataframe\">\n",
       "  <thead>\n",
       "    <tr style=\"text-align: right;\">\n",
       "      <th></th>\n",
       "      <th>name</th>\n",
       "      <th>timestamp</th>\n",
       "      <th>metrics</th>\n",
       "    </tr>\n",
       "  </thead>\n",
       "  <tbody>\n",
       "    <tr>\n",
       "      <th>0</th>\n",
       "      <td>Pit 1</td>\n",
       "      <td>1647743278733</td>\n",
       "      <td>{'ECIgrKJfMO8I2E8Lsovh': {'type': 'text', 'nam...</td>\n",
       "    </tr>\n",
       "  </tbody>\n",
       "</table>\n",
       "</div>"
      ],
      "text/plain": [
       "    name      timestamp                                            metrics\n",
       "0  Pit 1  1647743278733  {'ECIgrKJfMO8I2E8Lsovh': {'type': 'text', 'nam..."
      ]
     },
     "metadata": {},
     "output_type": "display_data"
    },
    {
     "name": "stdout",
     "output_type": "stream",
     "text": [
      "Dict:  {'Index': [6], 'Team': [5690], 'Timestamp': ['03-20-2022'], 'Scout': ['NG'], 'HARDWARE Floor Intake': [True], 'HARDWARE Drivetrain': ['Unknown '], 'AUTO Level': ['4-Shoot + Taxi + Intake (2 Cargo max)'], 'AUTO Strategy Comments': ['Looked like they were working on picking up a third ball from the terminal and shooting it during auto. '], 'TELEOP Where They Shoot': ['Upper Hub only'], 'TELEOP Strategy Comments': [''], 'END GAME Highest Climb': ['Mid'], 'END GAME Climb Comments': [''], 'DEFENSE Shown': [True], 'DEFENSE Comments': ['Did well in finals when playing defense '], 'Additional Notes': [\"It takes them awhile to line up to shoot. They always shoot from just outside the tarmac tape. It looks like they have trouble moving around when they are near the power cord on the floor. They don't do well when they have defense against them. \"]}\n"
     ]
    },
    {
     "data": {
      "text/html": [
       "<div>\n",
       "<style scoped>\n",
       "    .dataframe tbody tr th:only-of-type {\n",
       "        vertical-align: middle;\n",
       "    }\n",
       "\n",
       "    .dataframe tbody tr th {\n",
       "        vertical-align: top;\n",
       "    }\n",
       "\n",
       "    .dataframe thead th {\n",
       "        text-align: right;\n",
       "    }\n",
       "</style>\n",
       "<table border=\"1\" class=\"dataframe\">\n",
       "  <thead>\n",
       "    <tr style=\"text-align: right;\">\n",
       "      <th></th>\n",
       "      <th>Index</th>\n",
       "      <th>Team</th>\n",
       "      <th>Timestamp</th>\n",
       "      <th>Scout</th>\n",
       "      <th>HARDWARE Floor Intake</th>\n",
       "      <th>HARDWARE Drivetrain</th>\n",
       "      <th>AUTO Level</th>\n",
       "      <th>AUTO Strategy Comments</th>\n",
       "      <th>TELEOP Where They Shoot</th>\n",
       "      <th>TELEOP Strategy Comments</th>\n",
       "      <th>END GAME Highest Climb</th>\n",
       "      <th>END GAME Climb Comments</th>\n",
       "      <th>DEFENSE Shown</th>\n",
       "      <th>DEFENSE Comments</th>\n",
       "      <th>Additional Notes</th>\n",
       "    </tr>\n",
       "  </thead>\n",
       "  <tbody>\n",
       "    <tr>\n",
       "      <th>0</th>\n",
       "      <td>0</td>\n",
       "      <td>1410</td>\n",
       "      <td>03-18-2022</td>\n",
       "      <td></td>\n",
       "      <td>True</td>\n",
       "      <td>Unknown</td>\n",
       "      <td>Unknown</td>\n",
       "      <td></td>\n",
       "      <td>Unknown</td>\n",
       "      <td></td>\n",
       "      <td>Unknown</td>\n",
       "      <td></td>\n",
       "      <td>False</td>\n",
       "      <td></td>\n",
       "      <td></td>\n",
       "    </tr>\n",
       "    <tr>\n",
       "      <th>1</th>\n",
       "      <td>1</td>\n",
       "      <td>1619</td>\n",
       "      <td>03-16-2022</td>\n",
       "      <td>JB</td>\n",
       "      <td>True</td>\n",
       "      <td>Swerve</td>\n",
       "      <td>5-More than 2 Cargo combination</td>\n",
       "      <td>Setup on the opposite side as the hangar in th...</td>\n",
       "      <td>Upper Hub only</td>\n",
       "      <td>They like the launchpad when heavily defended....</td>\n",
       "      <td>Traversal</td>\n",
       "      <td>15 sec climb. They go into the Hangar with 30 ...</td>\n",
       "      <td>False</td>\n",
       "      <td>Never seen them play defense.</td>\n",
       "      <td></td>\n",
       "    </tr>\n",
       "    <tr>\n",
       "      <th>2</th>\n",
       "      <td>2</td>\n",
       "      <td>2945</td>\n",
       "      <td>03-20-2022</td>\n",
       "      <td>NG</td>\n",
       "      <td>True</td>\n",
       "      <td>Unknown</td>\n",
       "      <td>3-Shoot + Taxi only (1 Cargo)</td>\n",
       "      <td></td>\n",
       "      <td>Upper Hub only</td>\n",
       "      <td></td>\n",
       "      <td>Mid</td>\n",
       "      <td>Usually go in to climb with 30sec left.</td>\n",
       "      <td>True</td>\n",
       "      <td>Not very effective</td>\n",
       "      <td></td>\n",
       "    </tr>\n",
       "    <tr>\n",
       "      <th>3</th>\n",
       "      <td>3</td>\n",
       "      <td>3374</td>\n",
       "      <td>03-20-2022</td>\n",
       "      <td>NG</td>\n",
       "      <td>True</td>\n",
       "      <td>Unknown</td>\n",
       "      <td>4-Shoot + Taxi + Intake (2 Cargo max)</td>\n",
       "      <td></td>\n",
       "      <td>Upper Hub only</td>\n",
       "      <td></td>\n",
       "      <td>Mid</td>\n",
       "      <td></td>\n",
       "      <td>False</td>\n",
       "      <td></td>\n",
       "      <td>Shoot close to the tarmac tape.\\nCan easily ge...</td>\n",
       "    </tr>\n",
       "    <tr>\n",
       "      <th>4</th>\n",
       "      <td>4</td>\n",
       "      <td>4418</td>\n",
       "      <td>03-20-2022</td>\n",
       "      <td>NG</td>\n",
       "      <td>True</td>\n",
       "      <td>Unknown</td>\n",
       "      <td>4-Shoot + Taxi + Intake (2 Cargo max)</td>\n",
       "      <td>Shoot low, then taxi to pick up another ball, ...</td>\n",
       "      <td>Lower Hub only</td>\n",
       "      <td>Typically shoot from up against the hub.</td>\n",
       "      <td>None</td>\n",
       "      <td>Trying to climb to the mid bar, but they get s...</td>\n",
       "      <td>False</td>\n",
       "      <td></td>\n",
       "      <td></td>\n",
       "    </tr>\n",
       "    <tr>\n",
       "      <th>5</th>\n",
       "      <td>5</td>\n",
       "      <td>4550</td>\n",
       "      <td>03-20-2022</td>\n",
       "      <td>NG</td>\n",
       "      <td>False</td>\n",
       "      <td>Unknown</td>\n",
       "      <td>3-Shoot + Taxi only (1 Cargo)</td>\n",
       "      <td>Changed their auto routine to shoot into the l...</td>\n",
       "      <td>Nowhere</td>\n",
       "      <td>Did not pick up or shoot at all during teleop ...</td>\n",
       "      <td>Traversal</td>\n",
       "      <td>Enter hangar at 30sec. Have to enter the hanga...</td>\n",
       "      <td>True</td>\n",
       "      <td>Good at blocking. Never got penalties (except ...</td>\n",
       "      <td>In the first couple qual matches their robot s...</td>\n",
       "    </tr>\n",
       "    <tr>\n",
       "      <th>6</th>\n",
       "      <td>6</td>\n",
       "      <td>5690</td>\n",
       "      <td>03-20-2022</td>\n",
       "      <td>NG</td>\n",
       "      <td>True</td>\n",
       "      <td>Unknown</td>\n",
       "      <td>4-Shoot + Taxi + Intake (2 Cargo max)</td>\n",
       "      <td>Looked like they were working on picking up a ...</td>\n",
       "      <td>Upper Hub only</td>\n",
       "      <td></td>\n",
       "      <td>Mid</td>\n",
       "      <td></td>\n",
       "      <td>True</td>\n",
       "      <td>Did well in finals when playing defense</td>\n",
       "      <td>It takes them awhile to line up to shoot. They...</td>\n",
       "    </tr>\n",
       "  </tbody>\n",
       "</table>\n",
       "</div>"
      ],
      "text/plain": [
       "   Index  Team   Timestamp Scout  HARDWARE Floor Intake HARDWARE Drivetrain  \\\n",
       "0      0  1410  03-18-2022                         True            Unknown    \n",
       "1      1  1619  03-16-2022    JB                   True             Swerve    \n",
       "2      2  2945  03-20-2022    NG                   True            Unknown    \n",
       "3      3  3374  03-20-2022    NG                   True            Unknown    \n",
       "4      4  4418  03-20-2022    NG                   True            Unknown    \n",
       "5      5  4550  03-20-2022    NG                  False            Unknown    \n",
       "6      6  5690  03-20-2022    NG                   True            Unknown    \n",
       "\n",
       "                              AUTO Level  \\\n",
       "0                               Unknown    \n",
       "1        5-More than 2 Cargo combination   \n",
       "2          3-Shoot + Taxi only (1 Cargo)   \n",
       "3  4-Shoot + Taxi + Intake (2 Cargo max)   \n",
       "4  4-Shoot + Taxi + Intake (2 Cargo max)   \n",
       "5          3-Shoot + Taxi only (1 Cargo)   \n",
       "6  4-Shoot + Taxi + Intake (2 Cargo max)   \n",
       "\n",
       "                              AUTO Strategy Comments TELEOP Where They Shoot  \\\n",
       "0                                                                   Unknown    \n",
       "1  Setup on the opposite side as the hangar in th...          Upper Hub only   \n",
       "2                                                             Upper Hub only   \n",
       "3                                                             Upper Hub only   \n",
       "4  Shoot low, then taxi to pick up another ball, ...         Lower Hub only    \n",
       "5  Changed their auto routine to shoot into the l...                 Nowhere   \n",
       "6  Looked like they were working on picking up a ...          Upper Hub only   \n",
       "\n",
       "                            TELEOP Strategy Comments END GAME Highest Climb  \\\n",
       "0                                                                  Unknown    \n",
       "1  They like the launchpad when heavily defended....             Traversal    \n",
       "2                                                                       Mid   \n",
       "3                                                                       Mid   \n",
       "4           Typically shoot from up against the hub.                   None   \n",
       "5  Did not pick up or shoot at all during teleop ...             Traversal    \n",
       "6                                                                       Mid   \n",
       "\n",
       "                             END GAME Climb Comments  DEFENSE Shown  \\\n",
       "0                                                             False   \n",
       "1  15 sec climb. They go into the Hangar with 30 ...          False   \n",
       "2            Usually go in to climb with 30sec left.           True   \n",
       "3                                                             False   \n",
       "4  Trying to climb to the mid bar, but they get s...          False   \n",
       "5  Enter hangar at 30sec. Have to enter the hanga...           True   \n",
       "6                                                              True   \n",
       "\n",
       "                                    DEFENSE Comments  \\\n",
       "0                                                      \n",
       "1                      Never seen them play defense.   \n",
       "2                                Not very effective    \n",
       "3                                                      \n",
       "4                                                      \n",
       "5  Good at blocking. Never got penalties (except ...   \n",
       "6           Did well in finals when playing defense    \n",
       "\n",
       "                                    Additional Notes  \n",
       "0                                                     \n",
       "1                                                     \n",
       "2                                                     \n",
       "3  Shoot close to the tarmac tape.\\nCan easily ge...  \n",
       "4                                                     \n",
       "5  In the first couple qual matches their robot s...  \n",
       "6  It takes them awhile to line up to shoot. They...  "
      ]
     },
     "metadata": {},
     "output_type": "display_data"
    }
   ],
   "source": [
    "# Index to use for each row of pit strategy that scouts have provided\n",
    "idx_allpitstrategies = 0\n",
    "\n",
    "# A pandas DataFrame to collect all the metrics.  \n",
    "# Each row is a match and we will identify the team that was scouted in the row. \n",
    "df_allpitstrategies = pd.DataFrame()\n",
    "\n",
    "# We will collect all the metrics for the current match into a dictionary.\n",
    "# This dictionary will be added to the end of the df_allmetrics dataframe.\n",
    "dict_pitstrategy = {}\n",
    "    \n",
    "# Let's run through all the scouting match metrics data we have from our scouts\n",
    "for index_team, row_team in df_scouting.iterrows():\n",
    "    \n",
    "    # Let's grab all the matches of metrics that we have for the current team\n",
    "    df_matches = pd.DataFrame.from_dict(row_team['teams'])\n",
    "    display(df_matches)\n",
    "    \n",
    "    # We'll now iterate through each match's metrics for the current team\n",
    "    for index_match, row_match in df_matches.iterrows():\n",
    "        \n",
    "        # Setting the team number and timestamp for the current match's metrics\n",
    "        team = index_team\n",
    "        timestamp = pd.Timestamp(row_match['timestamp'], unit='ms')  \n",
    "        \n",
    "        # Adding the team number and timestamp into the dictionary that we will add as a row of metrics\n",
    "        dict_pitstrategy['Index'] = [idx_allpitstrategies]        \n",
    "        dict_pitstrategy['Team'] = [team]\n",
    "        dict_pitstrategy['Timestamp'] = [timestamp.strftime('%m-%d-%Y')]\n",
    "        \n",
    "        # When the JSON file was imported, the metrics were still in a set of key, value, category, name set of fields\n",
    "        # under the 'metrics' column of the dataframe that was created when we read the JSON file.\n",
    "        # We will iterate through these key, value type sets of data to parse out what we want from the scouting metrics.\n",
    "        d_metrics = row_match['metrics']\n",
    "        \n",
    "        # Using items() + list comprehension\n",
    "        # Substring Key match in dictionary\n",
    "        for key, val in d_metrics.items():\n",
    "            # print(\"key: \", key, \"Type:\", val['type'],\"Name:\", val['name'], \"Category:\", val['category'],\"Value:\", val['value'])\n",
    "            # print(\"Label will be:\", d_labels[key], 'Index:', i)\n",
    "\n",
    "            # Adding metrics to our dictionary that will be added as a row once we have all of them for the match.\n",
    "            if val['value'] is None:\n",
    "                dict_pitstrategy[d_labels[key]] = ['']\n",
    "            elif val['type'] in {\"boolean\", \"number\",\"stopwatch\"}:\n",
    "                dict_pitstrategy[d_labels[key]] = [val['value']]                \n",
    "            else:\n",
    "                dict_pitstrategy[d_labels[key]] = [val['value']]                \n",
    "\n",
    "        print(\"Dict: \", dict_pitstrategy)\n",
    "        \n",
    "        # Let's convert our dictionary of metrics for a match into a DataFrame to be ready to add\n",
    "        new_pitstrategy = pd.DataFrame(dict_pitstrategy)\n",
    "        \n",
    "        # If this is our first row, let's initialize our all metrics DataFrame to this first row.\n",
    "        if df_allpitstrategies.empty:\n",
    "            # If first row let's set it\n",
    "            df_allpitstrategies = new_pitstrategy\n",
    "        else:\n",
    "            #append new row to the dataframe\n",
    "            df_allpitstrategies = pd.concat([df_allpitstrategies, new_pitstrategy], ignore_index=True)\n",
    "    \n",
    "        # Incrementing to be ready to use as an index to each row\n",
    "        idx_allpitstrategies = idx_allpitstrategies + 1\n",
    "\n",
    "# Let's just see what we have!\n",
    "display(df_allpitstrategies)"
   ]
  },
  {
   "cell_type": "code",
   "execution_count": 8,
   "id": "600334bf",
   "metadata": {
    "scrolled": true
   },
   "outputs": [
    {
     "name": "stdout",
     "output_type": "stream",
     "text": [
      "<class 'pandas.core.frame.DataFrame'>\n",
      "RangeIndex: 7 entries, 0 to 6\n",
      "Data columns (total 15 columns):\n",
      " #   Column                    Non-Null Count  Dtype \n",
      "---  ------                    --------------  ----- \n",
      " 0   Index                     7 non-null      int64 \n",
      " 1   Team                      7 non-null      int64 \n",
      " 2   Timestamp                 7 non-null      object\n",
      " 3   Scout                     7 non-null      object\n",
      " 4   HARDWARE Floor Intake     7 non-null      bool  \n",
      " 5   HARDWARE Drivetrain       7 non-null      object\n",
      " 6   AUTO Level                7 non-null      object\n",
      " 7   AUTO Strategy Comments    7 non-null      object\n",
      " 8   TELEOP Where They Shoot   7 non-null      object\n",
      " 9   TELEOP Strategy Comments  7 non-null      object\n",
      " 10  END GAME Highest Climb    7 non-null      object\n",
      " 11  END GAME Climb Comments   7 non-null      object\n",
      " 12  DEFENSE Shown             7 non-null      bool  \n",
      " 13  DEFENSE Comments          7 non-null      object\n",
      " 14  Additional Notes          7 non-null      object\n",
      "dtypes: bool(2), int64(2), object(11)\n",
      "memory usage: 870.0+ bytes\n"
     ]
    }
   ],
   "source": [
    "# Let's see how many matches and what types of columns we have.\n",
    "df_allpitstrategies.info()"
   ]
  },
  {
   "cell_type": "code",
   "execution_count": 9,
   "id": "eb679377",
   "metadata": {},
   "outputs": [],
   "source": [
    "# Let's transpose our data to have all the Pit fields along the left side and the teams in a column\n",
    "dfT_allpitstrategies = df_allpitstrategies.T"
   ]
  },
  {
   "cell_type": "markdown",
   "id": "7a94fe3b",
   "metadata": {},
   "source": [
    "## Output the full list of Pit submissions we have from the Scouts"
   ]
  },
  {
   "cell_type": "code",
   "execution_count": 10,
   "id": "d4d917f5",
   "metadata": {},
   "outputs": [],
   "source": [
    "#  All match metrics exporting to a CSV file to be used by other scripts or to look at AS-IS\n",
    "df_allpitstrategies[['Team','Timestamp','Scout','HARDWARE Floor Intake','HARDWARE Drivetrain','AUTO Level','AUTO Strategy Comments','TELEOP Where They Shoot','TELEOP Strategy Comments','END GAME Highest Climb','END GAME Climb Comments','DEFENSE Shown','DEFENSE Comments','Additional Notes']].to_csv(\"LatestResults/AllTeamStrategies.csv\", index=False, float_format=\"%.1f\")"
   ]
  },
  {
   "cell_type": "code",
   "execution_count": 11,
   "id": "853ed2fc",
   "metadata": {},
   "outputs": [],
   "source": [
    "#  All match metrics exporting to a CSV file to be used by other scripts or to look at AS-IS\n",
    "dfT_allpitstrategies.to_csv(\"LatestResults/AllTeamStrategies_FieldsOnLeft.csv\", index=False, float_format=\"%.1f\")"
   ]
  },
  {
   "cell_type": "code",
   "execution_count": 12,
   "id": "e167a329",
   "metadata": {},
   "outputs": [],
   "source": [
    "# Attempting to write to Excel to look at AS-IS \n",
    "filename_Excel = \"LatestResults/OurScouting-TeamStrategies.xlsx\"\n",
    "with pd.ExcelWriter(filename_Excel, datetime_format='mmm d yyyy hh:mm:ss', date_format='hh:mm:ss.000') as writer:\n",
    "    dfT_allpitstrategies.to_excel(writer, sheet_name=\"Team Strategies-inColumns\", index=True, float_format=\"%.1f\")\n",
    "    df_allpitstrategies[['Team','Timestamp','Scout','HARDWARE Floor Intake','HARDWARE Drivetrain','AUTO Level','AUTO Strategy Comments','TELEOP Where They Shoot','TELEOP Strategy Comments','END GAME Highest Climb','END GAME Climb Comments','DEFENSE Shown','DEFENSE Comments','Additional Notes']].to_excel(writer, sheet_name=\"Team Strategies-inRows\", index=False, float_format=\"%.1f\")\n"
   ]
  },
  {
   "cell_type": "code",
   "execution_count": null,
   "id": "7e900042",
   "metadata": {},
   "outputs": [],
   "source": []
  }
 ],
 "metadata": {
  "kernelspec": {
   "display_name": "Python 3 (ipykernel)",
   "language": "python",
   "name": "python3"
  },
  "language_info": {
   "codemirror_mode": {
    "name": "ipython",
    "version": 3
   },
   "file_extension": ".py",
   "mimetype": "text/x-python",
   "name": "python",
   "nbconvert_exporter": "python",
   "pygments_lexer": "ipython3",
   "version": "3.9.7"
  }
 },
 "nbformat": 4,
 "nbformat_minor": 5
}
